{
 "cells": [
  {
   "cell_type": "code",
   "execution_count": 177,
   "metadata": {},
   "outputs": [],
   "source": [
    "#Run this Cell with No Changes \n",
    "import numpy as np \n",
    "import pandas as pd \n",
    "import matplotlib.pyplot as plt \n",
    "from numbers import Number\n",
    "import warnings\n",
    "warnings.filterwarnings('ignore')\n"
   ]
  },
  {
   "cell_type": "markdown",
   "metadata": {},
   "source": [
    "## 1) Read the mpg_final CSV File into a Pandas DataFrame Called df \n",
    "\n",
    "Hint:  Make sure the data folder is in the same directory as this notebook and use 'data/mpg_final.csv'"
   ]
  },
  {
   "cell_type": "code",
   "execution_count": 178,
   "metadata": {},
   "outputs": [
    {
     "data": {
      "text/plain": [
       "mpg             0\n",
       "cylinders       0\n",
       "displacement    0\n",
       "horsepower      6\n",
       "weight          0\n",
       "acceleration    0\n",
       "model_year      0\n",
       "origin          0\n",
       "name            0\n",
       "make            0\n",
       "dtype: int64"
      ]
     },
     "execution_count": 178,
     "metadata": {},
     "output_type": "execute_result"
    }
   ],
   "source": [
    "#Starter Code \n",
    "\n",
    "df = pd.read_csv('data/mpg_final.csv')\n",
    "df.head()\n",
    "df.isna().sum()\n"
   ]
  },
  {
   "cell_type": "markdown",
   "metadata": {},
   "source": [
    "## 1.1). Drop the missing values from the 'horsepower' column "
   ]
  },
  {
   "cell_type": "code",
   "execution_count": 180,
   "metadata": {},
   "outputs": [
    {
     "data": {
      "text/plain": [
       "mpg             0\n",
       "cylinders       0\n",
       "displacement    0\n",
       "horsepower      0\n",
       "weight          0\n",
       "acceleration    0\n",
       "model_year      0\n",
       "origin          0\n",
       "name            0\n",
       "make            0\n",
       "dtype: int64"
      ]
     },
     "execution_count": 180,
     "metadata": {},
     "output_type": "execute_result"
    }
   ],
   "source": [
    "##Begin Solution \n",
    "df= df.dropna(subset=['horsepower'])\n",
    "df.isna().sum()\n",
    "##End Solution "
   ]
  },
  {
   "cell_type": "markdown",
   "metadata": {},
   "source": [
    "## 1.2) Divide the Weight column by 2.205 to turn it into kilograms call this new column 'weight_kg' "
   ]
  },
  {
   "cell_type": "code",
   "execution_count": 16,
   "metadata": {},
   "outputs": [
    {
     "data": {
      "text/html": [
       "<div>\n",
       "<style scoped>\n",
       "    .dataframe tbody tr th:only-of-type {\n",
       "        vertical-align: middle;\n",
       "    }\n",
       "\n",
       "    .dataframe tbody tr th {\n",
       "        vertical-align: top;\n",
       "    }\n",
       "\n",
       "    .dataframe thead th {\n",
       "        text-align: right;\n",
       "    }\n",
       "</style>\n",
       "<table border=\"1\" class=\"dataframe\">\n",
       "  <thead>\n",
       "    <tr style=\"text-align: right;\">\n",
       "      <th></th>\n",
       "      <th>mpg</th>\n",
       "      <th>cylinders</th>\n",
       "      <th>displacement</th>\n",
       "      <th>horsepower</th>\n",
       "      <th>weight</th>\n",
       "      <th>acceleration</th>\n",
       "      <th>model_year</th>\n",
       "      <th>origin</th>\n",
       "      <th>name</th>\n",
       "      <th>make</th>\n",
       "      <th>weight_kg</th>\n",
       "    </tr>\n",
       "  </thead>\n",
       "  <tbody>\n",
       "    <tr>\n",
       "      <th>0</th>\n",
       "      <td>18.0</td>\n",
       "      <td>8</td>\n",
       "      <td>307.0</td>\n",
       "      <td>130.0</td>\n",
       "      <td>3504</td>\n",
       "      <td>12.0</td>\n",
       "      <td>70</td>\n",
       "      <td>usa</td>\n",
       "      <td>chevrolet chevelle malibu</td>\n",
       "      <td>chevrolet</td>\n",
       "      <td>1589.115646</td>\n",
       "    </tr>\n",
       "    <tr>\n",
       "      <th>1</th>\n",
       "      <td>15.0</td>\n",
       "      <td>8</td>\n",
       "      <td>350.0</td>\n",
       "      <td>165.0</td>\n",
       "      <td>3693</td>\n",
       "      <td>11.5</td>\n",
       "      <td>70</td>\n",
       "      <td>usa</td>\n",
       "      <td>buick skylark 320</td>\n",
       "      <td>buick</td>\n",
       "      <td>1674.829932</td>\n",
       "    </tr>\n",
       "    <tr>\n",
       "      <th>2</th>\n",
       "      <td>18.0</td>\n",
       "      <td>8</td>\n",
       "      <td>318.0</td>\n",
       "      <td>150.0</td>\n",
       "      <td>3436</td>\n",
       "      <td>11.0</td>\n",
       "      <td>70</td>\n",
       "      <td>usa</td>\n",
       "      <td>plymouth satellite</td>\n",
       "      <td>plymouth</td>\n",
       "      <td>1558.276644</td>\n",
       "    </tr>\n",
       "    <tr>\n",
       "      <th>3</th>\n",
       "      <td>16.0</td>\n",
       "      <td>8</td>\n",
       "      <td>304.0</td>\n",
       "      <td>150.0</td>\n",
       "      <td>3433</td>\n",
       "      <td>12.0</td>\n",
       "      <td>70</td>\n",
       "      <td>usa</td>\n",
       "      <td>amc rebel sst</td>\n",
       "      <td>amc</td>\n",
       "      <td>1556.916100</td>\n",
       "    </tr>\n",
       "    <tr>\n",
       "      <th>4</th>\n",
       "      <td>17.0</td>\n",
       "      <td>8</td>\n",
       "      <td>302.0</td>\n",
       "      <td>140.0</td>\n",
       "      <td>3449</td>\n",
       "      <td>10.5</td>\n",
       "      <td>70</td>\n",
       "      <td>usa</td>\n",
       "      <td>ford torino</td>\n",
       "      <td>ford</td>\n",
       "      <td>1564.172336</td>\n",
       "    </tr>\n",
       "  </tbody>\n",
       "</table>\n",
       "</div>"
      ],
      "text/plain": [
       "    mpg  cylinders  displacement  horsepower  weight  acceleration  \\\n",
       "0  18.0          8         307.0       130.0    3504          12.0   \n",
       "1  15.0          8         350.0       165.0    3693          11.5   \n",
       "2  18.0          8         318.0       150.0    3436          11.0   \n",
       "3  16.0          8         304.0       150.0    3433          12.0   \n",
       "4  17.0          8         302.0       140.0    3449          10.5   \n",
       "\n",
       "   model_year origin                       name       make    weight_kg  \n",
       "0          70    usa  chevrolet chevelle malibu  chevrolet  1589.115646  \n",
       "1          70    usa          buick skylark 320      buick  1674.829932  \n",
       "2          70    usa         plymouth satellite   plymouth  1558.276644  \n",
       "3          70    usa              amc rebel sst        amc  1556.916100  \n",
       "4          70    usa                ford torino       ford  1564.172336  "
      ]
     },
     "execution_count": 16,
     "metadata": {},
     "output_type": "execute_result"
    }
   ],
   "source": [
    "\n",
    "\n",
    "##Begin Solution \n",
    "df['weight_kg']=df['weight']/2.205\n",
    "df.head()\n",
    "\n",
    "##End Solution \n",
    "\n"
   ]
  },
  {
   "cell_type": "markdown",
   "metadata": {},
   "source": [
    "## 1.3) Find the Top 2 Origins with the Most Vehicles "
   ]
  },
  {
   "cell_type": "code",
   "execution_count": 181,
   "metadata": {},
   "outputs": [
    {
     "data": {
      "text/plain": [
       "usa      245\n",
       "japan     79\n",
       "Name: origin, dtype: int64"
      ]
     },
     "execution_count": 181,
     "metadata": {},
     "output_type": "execute_result"
    }
   ],
   "source": [
    "##Begin Solution \n",
    "vehiclesbyorigin = df['origin'].value_counts()\n",
    "\n",
    "vehiclesbyorigin[0:2]\n",
    "\n",
    "\n",
    "##End Solution "
   ]
  },
  {
   "cell_type": "code",
   "execution_count": 182,
   "metadata": {},
   "outputs": [
    {
     "data": {
      "text/plain": [
       "Index(['usa', 'japan'], dtype='object')"
      ]
     },
     "execution_count": 182,
     "metadata": {},
     "output_type": "execute_result"
    }
   ],
   "source": [
    "df['origin'].value_counts().index[:2]"
   ]
  },
  {
   "cell_type": "code",
   "execution_count": 183,
   "metadata": {},
   "outputs": [
    {
     "data": {
      "text/plain": [
       "['usa', 'japan']"
      ]
     },
     "execution_count": 183,
     "metadata": {},
     "output_type": "execute_result"
    }
   ],
   "source": [
    "top_2_origin = [df['origin'].value_counts().index[0], df['origin'].value_counts().index[1]]\n",
    "\n",
    "top_2_origin"
   ]
  },
  {
   "cell_type": "code",
   "execution_count": 186,
   "metadata": {},
   "outputs": [
    {
     "data": {
      "text/plain": [
       "['usa', 'japan']"
      ]
     },
     "execution_count": 186,
     "metadata": {},
     "output_type": "execute_result"
    }
   ],
   "source": [
    "origin = list(df['origin'].value_counts().index[0:2])\n",
    "origin"
   ]
  },
  {
   "cell_type": "markdown",
   "metadata": {},
   "source": [
    "## Part 2) Data Visualization "
   ]
  },
  {
   "cell_type": "markdown",
   "metadata": {},
   "source": [
    "## 2.1 Using matplotlib create a bar chart of the Top 8 makes with the highest frequency \n",
    "### Note:  Please include a chart title, x-label, and y-label \n"
   ]
  },
  {
   "cell_type": "code",
   "execution_count": 191,
   "metadata": {},
   "outputs": [
    {
     "data": {
      "image/png": "[encoded data removed]",
      "text/plain": [
       "<Figure size 720x432 with 1 Axes>"
      ]
     },
     "metadata": {
      "needs_background": "light"
     },
     "output_type": "display_data"
    }
   ],
   "source": [
    "cars_count_figure, ax = plt.subplots(figsize=(10, 6))\n",
    "\n",
    "ax.bar(df['make'].value_counts().index[:8], df['make'].value_counts()[:8])\n",
    "ax.set_xlabel('Makes')\n",
    "ax.set_ylabel('Frequency')\n",
    "ax.set_title(\"Top 8 Makes by Frequency\");"
   ]
  },
  {
   "cell_type": "code",
   "execution_count": 190,
   "metadata": {},
   "outputs": [
    {
     "data": {
      "image/png": "[encoded data removed]",
      "text/plain": [
       "<Figure size 720x432 with 1 Axes>"
      ]
     },
     "metadata": {
      "needs_background": "light"
     },
     "output_type": "display_data"
    }
   ],
   "source": [
    "cars_count_figure, ax = plt.subplots(figsize=(10, 6))\n",
    "\n",
    "##Begin Solution\n",
    "makes_chart=df['make'].value_counts()[:8]\n",
    "\n",
    "makes_chart.plot(kind='bar')\n",
    "plt.title('Top 8 Make Frequencys')\n",
    "plt.xlabel('Makes')\n",
    "plt.ylabel('Frequency');\n",
    "##End Solution \n"
   ]
  },
  {
   "cell_type": "code",
   "execution_count": 189,
   "metadata": {},
   "outputs": [
    {
     "data": {
      "text/plain": [
       "ford             48\n",
       "chevrolet        43\n",
       "plymouth         31\n",
       "dodge            28\n",
       "amc              27\n",
       "toyota           25\n",
       "datsun           23\n",
       "buick            17\n",
       "pontiac          16\n",
       "volkswagen       15\n",
       "honda            13\n",
       "mercury          11\n",
       "mazda            10\n",
       "oldsmobile       10\n",
       "peugeot           8\n",
       "fiat              8\n",
       "audi              7\n",
       "chrysler          6\n",
       "vw                6\n",
       "volvo             6\n",
       "subaru            4\n",
       "saab              4\n",
       "opel              4\n",
       "chevy             3\n",
       "renault           3\n",
       "cadillac          2\n",
       "maxda             2\n",
       "mercedes-benz     2\n",
       "bmw               2\n",
       "vokswagen         1\n",
       "toyouta           1\n",
       "mercedes          1\n",
       "triumph           1\n",
       "capri             1\n",
       "nissan            1\n",
       "chevroelt         1\n",
       "hi                1\n",
       "Name: make, dtype: int64"
      ]
     },
     "metadata": {},
     "output_type": "display_data"
    },
    {
     "data": {
      "image/png": "[encoded data removed]",
      "text/plain": [
       "<Figure size 720x432 with 1 Axes>"
      ]
     },
     "metadata": {
      "needs_background": "light"
     },
     "output_type": "display_data"
    }
   ],
   "source": [
    "cars_count_figure, ax = plt.subplots(figsize=(10, 6))\n",
    "display(df['make'].value_counts())\n",
    "top_8_makes_txt = df['make'].value_counts().index[0:8]\n",
    "top_8_makes_num = df['make'].value_counts().values[0:8]\n",
    "# print(top_8_makes_txt)\n",
    "\n",
    "ax.barh(y=top_8_makes_txt[::-1],width=top_8_makes_num[::-1], )\n",
    "ax.set_xlabel(\"# of Vehicles\")\n",
    "ax.set_ylabel(\"Vehicle Make\")\n",
    "ax.set_title(\"Top 8 Most Frequent Vehicle Makes\");"
   ]
  },
  {
   "cell_type": "markdown",
   "metadata": {},
   "source": [
    "## 2.2 Create a ScatterPlot of Horsepower to MPG \n",
    "### Note:  Please include a chart title, x-label, y-label "
   ]
  },
  {
   "cell_type": "code",
   "execution_count": 27,
   "metadata": {},
   "outputs": [
    {
     "data": {
      "text/plain": [
       "Text(0.5, 1.0, 'Horsepower to MPG Scatterplot')"
      ]
     },
     "execution_count": 27,
     "metadata": {},
     "output_type": "execute_result"
    },
    {
     "data": {
      "image/png": "[encoded data removed]",
      "text/plain": [
       "<Figure size 720x432 with 1 Axes>"
      ]
     },
     "metadata": {
      "needs_background": "light"
     },
     "output_type": "display_data"
    }
   ],
   "source": [
    "\n",
    "cars_count_figure, ax = plt.subplots(figsize=(10, 6))\n",
    "\n",
    "##Begin Solution \n",
    "x=df['horsepower']\n",
    "y=df['mpg']\n",
    "ax.scatter(x,y)\n",
    "ax.set_xlabel('Horsepower')\n",
    "ax.set_ylabel('MPG')\n",
    "ax.set_title('Horsepower to MPG Scatterplot')\n",
    "##End Solution \n"
   ]
  },
  {
   "cell_type": "markdown",
   "metadata": {},
   "source": [
    "## 3). Exploring Statistical Data "
   ]
  },
  {
   "cell_type": "markdown",
   "metadata": {},
   "source": [
    "## 3.1) Create one variable called 'mean_acceleration' and another variable called 'median_acceleration' using the acceleration column\n"
   ]
  },
  {
   "cell_type": "code",
   "execution_count": 39,
   "metadata": {},
   "outputs": [
    {
     "name": "stdout",
     "output_type": "stream",
     "text": [
      "Mean acceleration: 15.541326530612244\n",
      " Median accelration: 15.5\n"
     ]
    }
   ],
   "source": [
    "## Begin Solution \n",
    "\n",
    "mean_acceleration = df['acceleration'].mean()\n",
    "median_acceleration = df['acceleration'].median()\n",
    "print(f'Mean acceleration: {mean_acceleration}')\n",
    "print(f' Median accelration: {median_acceleration}')\n",
    "## End Solution "
   ]
  },
  {
   "cell_type": "code",
   "execution_count": 74,
   "metadata": {},
   "outputs": [
    {
     "data": {
      "text/plain": [
       "ford             48\n",
       "chevrolet        43\n",
       "plymouth         31\n",
       "dodge            28\n",
       "amc              27\n",
       "toyota           25\n",
       "datsun           23\n",
       "buick            17\n",
       "pontiac          16\n",
       "volkswagen       15\n",
       "honda            13\n",
       "mercury          11\n",
       "mazda            10\n",
       "oldsmobile       10\n",
       "peugeot           8\n",
       "fiat              8\n",
       "audi              7\n",
       "chrysler          6\n",
       "vw                6\n",
       "volvo             6\n",
       "subaru            4\n",
       "saab              4\n",
       "opel              4\n",
       "chevy             3\n",
       "renault           3\n",
       "cadillac          2\n",
       "maxda             2\n",
       "mercedes-benz     2\n",
       "bmw               2\n",
       "vokswagen         1\n",
       "toyouta           1\n",
       "mercedes          1\n",
       "triumph           1\n",
       "capri             1\n",
       "nissan            1\n",
       "chevroelt         1\n",
       "hi                1\n",
       "Name: make, dtype: int64"
      ]
     },
     "execution_count": 74,
     "metadata": {},
     "output_type": "execute_result"
    }
   ],
   "source": [
    "df['make'].value_counts()"
   ]
  },
  {
   "cell_type": "markdown",
   "metadata": {},
   "source": [
    "## 3.2). Create a variable called 'oldest_ford_modelname' and 'oldest_ford_modelyear' that contains the model name and year of the oldest Ford "
   ]
  },
  {
   "cell_type": "code",
   "execution_count": 198,
   "metadata": {},
   "outputs": [
    {
     "name": "stdout",
     "output_type": "stream",
     "text": [
      "The year of the oldest ford model is: 70\n",
      "The oldest ford model is: ford torino\n"
     ]
    }
   ],
   "source": [
    "##Begin Solution \n",
    "fords=df.loc[df['make'] =='ford']\n",
    "oldest_ford_modelyear= fords['model_year'].min()\n",
    "print(f'The year of the oldest ford model is: {oldest_ford_modelyear}')\n",
    "oldest_ford_modelname= fords.sort_values(by='model_year')['name'].iloc[0]\n",
    "oldest_ford_modelname\n",
    "print(f'The oldest ford model is: {oldest_ford_modelname}')\n",
    "##End Solution "
   ]
  },
  {
   "cell_type": "code",
   "execution_count": 206,
   "metadata": {},
   "outputs": [],
   "source": [
    "year = df[    (df['make'] == 'ford')     &       (df['model_year'] == df['model_year'].min())      ]\n",
    "oldest_ford_modelyear = list(zip(year['name'].values, year['model_year'].values))"
   ]
  },
  {
   "cell_type": "code",
   "execution_count": 207,
   "metadata": {},
   "outputs": [
    {
     "data": {
      "text/plain": [
       "[('ford torino', 70),\n",
       " ('ford galaxie 500', 70),\n",
       " ('ford maverick', 70),\n",
       " ('ford f250', 70)]"
      ]
     },
     "execution_count": 207,
     "metadata": {},
     "output_type": "execute_result"
    }
   ],
   "source": [
    "oldest_ford_modelyear"
   ]
  },
  {
   "cell_type": "code",
   "execution_count": 195,
   "metadata": {},
   "outputs": [
    {
     "name": "stdout",
     "output_type": "stream",
     "text": [
      "['ford torino', 'ford galaxie 500', 'ford maverick', 'ford f250']\n",
      "[70, 70, 70, 70]\n"
     ]
    }
   ],
   "source": [
    "relevant_colums=['model_year','name','make']\n",
    "df= df[relevant_colums]\n",
    "df = df.loc[df['make']=='ford']\n",
    "df.reset_index()\n",
    "oldest_ford_modelname = df['name'][:4].tolist()\n",
    "oldest_ford_modelyear = df['model_year'][:4].tolist()\n",
    "print(oldest_ford_modelname)\n",
    "print(oldest_ford_modelyear)"
   ]
  },
  {
   "cell_type": "code",
   "execution_count": 197,
   "metadata": {},
   "outputs": [
    {
     "name": "stdout",
     "output_type": "stream",
     "text": [
      "['ford torino', 'ford galaxie 500', 'ford maverick', 'ford f250'] [70, 70, 70, 70]\n"
     ]
    }
   ],
   "source": [
    "#Too hard code like\n",
    "oldest_ford_modelname = list(df[df['make'] == 'ford'].sort_values(by = 'model_year').iloc[0:4]['name'])\n",
    "oldest_ford_modelyear = list(df[df['make'] == 'ford'].sort_values(by = 'model_year').iloc[0:4]['model_year'])\n",
    "print(oldest_ford_modelname, oldest_ford_modelyear)"
   ]
  },
  {
   "cell_type": "code",
   "execution_count": 212,
   "metadata": {},
   "outputs": [
    {
     "name": "stdout",
     "output_type": "stream",
     "text": [
      "                                     make\n",
      "name                     model_year      \n",
      "ford f250                70          ford\n",
      "ford galaxie 500         70          ford\n",
      "ford maverick            70          ford\n",
      "ford torino              70          ford\n",
      "ford country squire (sw) 71          ford\n"
     ]
    }
   ],
   "source": [
    "test= df[ df['make']=='ford'].groupby(by=['name','model_year']).min().sort_index(level='model_year')\n",
    "print(test.head())"
   ]
  },
  {
   "cell_type": "code",
   "execution_count": 214,
   "metadata": {},
   "outputs": [
    {
     "name": "stdout",
     "output_type": "stream",
     "text": [
      "                  make\n",
      "name                  \n",
      "ford f250         ford\n",
      "ford galaxie 500  ford\n",
      "ford maverick     ford\n",
      "ford torino       ford\n"
     ]
    }
   ],
   "source": [
    "test1 = df[ df['make'] == 'ford'].groupby(by=['model_year', 'name']).min().sort_index(level = 'model_year').loc[70]\n",
    "print(test1.head())"
   ]
  },
  {
   "cell_type": "markdown",
   "metadata": {},
   "source": [
    "## Part 4). Python Data Structures "
   ]
  },
  {
   "cell_type": "code",
   "execution_count": 215,
   "metadata": {},
   "outputs": [],
   "source": [
    "##Run this cell without changes \n",
    "\n",
    "mpg_dict = {'chevrolet': {'mpg': 18.0,\n",
    "  'cylinders': 8,\n",
    "  'displacement': 307.0,\n",
    "  'horsepower': 130.0,\n",
    "  'weight': 3504,\n",
    "  'acceleration': 12.0,\n",
    "  'model_year': 70,\n",
    "  'origin': 'usa'},\n",
    " 'buick': {'mpg': 15.0,\n",
    "  'cylinders': 8,\n",
    "  'displacement': 350.0,\n",
    "  'horsepower': 165.0,\n",
    "  'weight': 3693,\n",
    "  'acceleration': 11.5,\n",
    "  'model_year': 70,\n",
    "  'origin': 'europe'},\n",
    " 'plymouth': {'mpg': 18.0,\n",
    "  'cylinders': 8,\n",
    "  'displacement': 318.0,\n",
    "  'horsepower': 150.0,\n",
    "  'weight': 3436,\n",
    "  'acceleration': 11.0,\n",
    "  'model_year': 70,\n",
    "  'origin': 'canada'},\n",
    " 'amc': {'mpg': 16.0,\n",
    "  'cylinders': 8,\n",
    "  'displacement': 304.0,\n",
    "  'horsepower': 150.0,\n",
    "  'weight': 3433,\n",
    "  'acceleration': 12.0,\n",
    "  'model_year': 70,\n",
    "  'origin': 'usa'},\n",
    " 'ford': {'mpg': 17.0,\n",
    "  'cylinders': 8,\n",
    "  'displacement': 302.0,\n",
    "  'horsepower': 140.0,\n",
    "  'weight': 3449,\n",
    "  'acceleration': 10.5,\n",
    "  'model_year': 70,\n",
    "  'origin': 'usa'}}"
   ]
  },
  {
   "cell_type": "markdown",
   "metadata": {},
   "source": [
    "## 4.1). Create a list 'car_brands' of all the makes in the dictionary 'mpg_dict'  "
   ]
  },
  {
   "cell_type": "code",
   "execution_count": 216,
   "metadata": {},
   "outputs": [
    {
     "name": "stdout",
     "output_type": "stream",
     "text": [
      "['chevrolet', 'buick', 'plymouth', 'amc', 'ford']\n"
     ]
    }
   ],
   "source": [
    "##Begin Solution \n",
    "car_brands=[]\n",
    "for make in mpg_dict:\n",
    "    car_brands.append(make)\n",
    "\n",
    "print(car_brands)\n",
    "##End Solution "
   ]
  },
  {
   "cell_type": "code",
   "execution_count": 224,
   "metadata": {},
   "outputs": [
    {
     "data": {
      "text/plain": [
       "['chevrolet', 'buick', 'plymouth', 'amc', 'ford']"
      ]
     },
     "execution_count": 224,
     "metadata": {},
     "output_type": "execute_result"
    }
   ],
   "source": [
    "car_brand = list(mpg_dict.keys())\n",
    "car_brand"
   ]
  },
  {
   "cell_type": "code",
   "execution_count": 225,
   "metadata": {},
   "outputs": [
    {
     "data": {
      "text/plain": [
       "[('chevrolet', 130.0),\n",
       " ('buick', 165.0),\n",
       " ('plymouth', 150.0),\n",
       " ('amc', 150.0),\n",
       " ('ford', 140.0)]"
      ]
     },
     "execution_count": 225,
     "metadata": {},
     "output_type": "execute_result"
    }
   ],
   "source": [
    "tuple_list2 = [(key, mpg_dict[key]['horsepower']) for key in mpg_dict]\n",
    "tuple_list2"
   ]
  },
  {
   "cell_type": "markdown",
   "metadata": {},
   "source": [
    "## 4.2). Create a list of Tuples containing each Car Make's Name and their corresponding Horsepower "
   ]
  },
  {
   "cell_type": "code",
   "execution_count": 217,
   "metadata": {},
   "outputs": [],
   "source": [
    "##Begin Solution \n",
    "x=[]\n",
    "y=[]\n",
    "for carname in mpg_dict:\n",
    "    x.append(carname)\n",
    "\n",
    "##End Solution "
   ]
  },
  {
   "cell_type": "code",
   "execution_count": 218,
   "metadata": {},
   "outputs": [],
   "source": [
    "for matt in mpg_dict.values():\n",
    "    y.append(matt['horsepower'])"
   ]
  },
  {
   "cell_type": "code",
   "execution_count": 219,
   "metadata": {},
   "outputs": [
    {
     "name": "stdout",
     "output_type": "stream",
     "text": [
      "(('chevrolet', 130.0), ('buick', 165.0), ('plymouth', 150.0), ('amc', 150.0), ('ford', 140.0))\n"
     ]
    }
   ],
   "source": [
    "merged_list=tuple(zip(x,y))\n",
    "print(merged_list)"
   ]
  },
  {
   "cell_type": "markdown",
   "metadata": {},
   "source": [
    "## 4.3)  Define a function 'get_cars_origin' that returns a list of car makes of all car makes of a given origin\n",
    "\n",
    "### Your function should take two arguments:\n",
    "\n",
    "A dictionary of car information ('mpg_dict')\n",
    "A string containing an origin (for which you are trying to find the car makes' origin)"
   ]
  },
  {
   "cell_type": "code",
   "execution_count": 222,
   "metadata": {},
   "outputs": [
    {
     "data": {
      "text/plain": [
       "['buick']"
      ]
     },
     "execution_count": 222,
     "metadata": {},
     "output_type": "execute_result"
    }
   ],
   "source": [
    "##Begin Solution \n",
    "\n",
    "\n",
    "def get_cars_origin(mpg_dict, car_origin):\n",
    "    make_list = []\n",
    "    for make,makedict in mpg_dict.items():\n",
    "        for (key2,val2) in makedict.items():\n",
    "            if mpg_dict[make]['origin'] == car_origin:\n",
    "                make_list.append(make)\n",
    " \n",
    "    return list(set(make_list))\n",
    "get_cars_origin(mpg_dict,'europe')\n",
    "##End Solution "
   ]
  },
  {
   "cell_type": "code",
   "execution_count": 234,
   "metadata": {},
   "outputs": [
    {
     "data": {
      "text/plain": [
       "['buick']"
      ]
     },
     "execution_count": 234,
     "metadata": {},
     "output_type": "execute_result"
    }
   ],
   "source": [
    "def get_cars_origin(mpg_dict, car_origin):\n",
    "    carlist= [k for k,v in mpg_dict.items() if v['origin'] == car_origin]\n",
    "    return carlist\n",
    "get_cars_origin(mpg_dict,'europe')"
   ]
  },
  {
   "cell_type": "code",
   "execution_count": 233,
   "metadata": {},
   "outputs": [
    {
     "data": {
      "text/plain": [
       "['chevrolet', 'amc', 'ford']"
      ]
     },
     "execution_count": 233,
     "metadata": {},
     "output_type": "execute_result"
    }
   ],
   "source": [
    "def get_cars_origin(mpg_dict, car_origin):\n",
    "    make_list = []\n",
    "    for k,v in mpg_dict.items():\n",
    "        for k2, v2 in v.items():\n",
    "            if car_origin == v2:\n",
    "                make_list.append(k)\n",
    "    return make_list\n",
    "get_cars_origin(mpg_dict,'usa')"
   ]
  },
  {
   "cell_type": "code",
   "execution_count": 235,
   "metadata": {},
   "outputs": [
    {
     "data": {
      "text/plain": [
       "['chevrolet', 'amc', 'ford']"
      ]
     },
     "execution_count": 235,
     "metadata": {},
     "output_type": "execute_result"
    }
   ],
   "source": [
    "def get_cars_origin(mpg_dict, car_origin):\n",
    "    make_list = []\n",
    "    for key in mpg_dict:\n",
    "        if mpg_dict[key]['origin'] == car_origin:\n",
    "            make_list.append(key)\n",
    "            \n",
    "    return make_list\n",
    "get_cars_origin(mpg_dict, 'usa')"
   ]
  }
 ],
 "metadata": {
  "kernelspec": {
   "display_name": "Python 3",
   "language": "python",
   "name": "python3"
  },
  "language_info": {
   "codemirror_mode": {
    "name": "ipython",
    "version": 3
   },
   "file_extension": ".py",
   "mimetype": "text/x-python",
   "name": "python",
   "nbconvert_exporter": "python",
   "pygments_lexer": "ipython3",
   "version": "3.8.5"
  }
 },
 "nbformat": 4,
 "nbformat_minor": 5
}
